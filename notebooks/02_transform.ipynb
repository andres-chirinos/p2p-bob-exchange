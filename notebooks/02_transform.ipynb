{
 "cells": [
  {
   "cell_type": "code",
   "execution_count": 21,
   "id": "57ff8254",
   "metadata": {},
   "outputs": [
    {
     "name": "stdout",
     "output_type": "stream",
     "text": [
      "Requirement already satisfied: pip in /home/andreschirinos/Proyectos/p2p-bob-exchange1/.venv/lib/python3.10/site-packages (25.1.1)\n",
      "Note: you may need to restart the kernel to use updated packages.\n",
      "Requirement already satisfied: pandas in /home/andreschirinos/Proyectos/p2p-bob-exchange1/.venv/lib/python3.10/site-packages (2.1.4)\n",
      "Requirement already satisfied: pyarrow in /home/andreschirinos/Proyectos/p2p-bob-exchange1/.venv/lib/python3.10/site-packages (20.0.0)\n",
      "Requirement already satisfied: fastparquet in /home/andreschirinos/Proyectos/p2p-bob-exchange1/.venv/lib/python3.10/site-packages (2024.11.0)\n",
      "Requirement already satisfied: numpy<2,>=1.22.4 in /home/andreschirinos/Proyectos/p2p-bob-exchange1/.venv/lib/python3.10/site-packages (from pandas) (1.26.4)\n",
      "Requirement already satisfied: python-dateutil>=2.8.2 in /home/andreschirinos/Proyectos/p2p-bob-exchange1/.venv/lib/python3.10/site-packages (from pandas) (2.9.0.post0)\n",
      "Requirement already satisfied: pytz>=2020.1 in /home/andreschirinos/Proyectos/p2p-bob-exchange1/.venv/lib/python3.10/site-packages (from pandas) (2025.2)\n",
      "Requirement already satisfied: tzdata>=2022.1 in /home/andreschirinos/Proyectos/p2p-bob-exchange1/.venv/lib/python3.10/site-packages (from pandas) (2025.2)\n",
      "Requirement already satisfied: cramjam>=2.3 in /home/andreschirinos/Proyectos/p2p-bob-exchange1/.venv/lib/python3.10/site-packages (from fastparquet) (2.10.0)\n",
      "Requirement already satisfied: fsspec in /home/andreschirinos/Proyectos/p2p-bob-exchange1/.venv/lib/python3.10/site-packages (from fastparquet) (2025.3.2)\n",
      "Requirement already satisfied: packaging in /home/andreschirinos/Proyectos/p2p-bob-exchange1/.venv/lib/python3.10/site-packages (from fastparquet) (25.0)\n",
      "Requirement already satisfied: six>=1.5 in /home/andreschirinos/Proyectos/p2p-bob-exchange1/.venv/lib/python3.10/site-packages (from python-dateutil>=2.8.2->pandas) (1.17.0)\n",
      "Note: you may need to restart the kernel to use updated packages.\n"
     ]
    }
   ],
   "source": [
    "%pip install --upgrade pip \n",
    "%pip install pandas pyarrow fastparquet"
   ]
  },
  {
   "cell_type": "code",
   "execution_count": 22,
   "id": "3639ba22",
   "metadata": {},
   "outputs": [],
   "source": [
    "import pandas as pd\n",
    "import json, re, os"
   ]
  },
  {
   "cell_type": "code",
   "execution_count": 23,
   "id": "9f7a818b",
   "metadata": {
    "tags": [
     "parameters"
    ]
   },
   "outputs": [],
   "source": [
    "data_dir = '../data'"
   ]
  },
  {
   "cell_type": "code",
   "execution_count": 24,
   "id": "2178ee4a",
   "metadata": {},
   "outputs": [],
   "source": [
    "input_file = os.path.join(data_dir, 'raw-data.csv')"
   ]
  },
  {
   "cell_type": "code",
   "execution_count": 25,
   "id": "4f2e938d",
   "metadata": {},
   "outputs": [
    {
     "name": "stdout",
     "output_type": "stream",
     "text": [
      "Transformando datos de ../data/raw-data.csv...\n"
     ]
    }
   ],
   "source": [
    "print(f\"Transformando datos de {input_file}...\")\n",
    "df = pd.read_csv(input_file)\n",
    "\n",
    "df.columns = [col.strip().lower().replace(' ', '_').replace('.','_') for col in df.columns]"
   ]
  },
  {
   "cell_type": "markdown",
   "id": "98b1e859",
   "metadata": {},
   "source": [
    "# Advertiser"
   ]
  },
  {
   "cell_type": "code",
   "execution_count": 26,
   "id": "bb947b93",
   "metadata": {},
   "outputs": [],
   "source": [
    "# Separa las tablas\n",
    "advertiser_cols = [col for col in df.columns if col.startswith(\"advertiser\") or col in [\"timestamp\", \"source\"]]\n",
    "df_advertiser = df[advertiser_cols]"
   ]
  },
  {
   "cell_type": "code",
   "execution_count": 27,
   "id": "89a905c3",
   "metadata": {},
   "outputs": [],
   "source": [
    "# Declara formatos\n",
    "custom_funcs = {\n",
    "    \"advertiser_userno\": lambda col: col.astype(str),\n",
    "    \"advertiser_monthordercount\": lambda col: col.astype(int),\n",
    "    \"advertiser_monthfinishrate\": lambda col: col.astype(float),\n",
    "    \"advertiser_positiverate\": lambda col: col.astype(float),\n",
    "    \"advertiser_usertype\": lambda col: col.astype(\"category\"),\n",
    "    \"advertiser_usergrade\": lambda col: col.astype(int),\n",
    "    \"advertiser_useridentity\": lambda col: col.astype(\"category\"),\n",
    "    \"advertiser_badges\": lambda col: col.astype(str),\n",
    "    \"advertiser_viplevel\": lambda col: col.fillna(0).astype(int),\n",
    "    \"advertiser_isblocked\": lambda col: col.astype(bool),\n",
    "    \"advertiser_activetimeinsecond\": lambda col: col.fillna(-1).astype(int),\n",
    "    \n",
    "    \"timestamp\": lambda col: pd.to_datetime(col, unit=\"s\"),\n",
    "    \"source\": lambda col: col.astype(\"category\"),\n",
    "}"
   ]
  },
  {
   "cell_type": "code",
   "execution_count": 28,
   "id": "44b232b6",
   "metadata": {},
   "outputs": [],
   "source": [
    "# Pone los formatos\n",
    "default_func = lambda col: col\n",
    "\n",
    "for col in df_advertiser.columns:\n",
    "    df_advertiser.loc[:, col] = custom_funcs.get(col, default_func)(df_advertiser[col])"
   ]
  },
  {
   "cell_type": "code",
   "execution_count": 29,
   "id": "62210af9",
   "metadata": {},
   "outputs": [
    {
     "data": {
      "application/vnd.microsoft.datawrangler.viewer.v0+json": {
       "columns": [
        {
         "name": "advertiser_userno",
         "rawType": "object",
         "type": "string"
        },
        {
         "name": "adv_advno",
         "rawType": "object",
         "type": "string"
        }
       ],
       "conversionMethod": "pd.DataFrame",
       "ref": "ad4a010b-22c3-411f-b428-ee18fcfe9b0f",
       "rows": [
        [
         "s0119d3ae19b832619f554631e41c9d71",
         "12724047536393334784"
        ],
        [
         "s027ba514af1233178e8437cf0139a8e8",
         "13717544266533711872,13730709405136564224,12743988806065135616,12740237112607416320,12740072104986959872"
        ],
        [
         "s029fc1353366358e806ce573f430e34e",
         "12748816789249544192"
        ],
        [
         "s02a6779cfc4c367fb148d6f9c7f5e7d1",
         "12645468749725069312"
        ],
        [
         "s03f22b90d96d35aa877cfd22f56b9e18",
         "12734003992719945728"
        ],
        [
         "s042ef6f7ac673c8088e90f638396ac32",
         "12747366516074029056"
        ],
        [
         "s0471fadb9c113d7791bf810062e3a266",
         "12694043562078879744"
        ],
        [
         "s0636a67ceb7c3acfbeb28a5dea4a2f6f",
         "12718339897971347456"
        ],
        [
         "s063f77cce6f43938a0632026ae60a384",
         "12745806098305347584,12749477149123588096,12750131712588627968"
        ],
        [
         "s081da581488434208ff86aa141e15729",
         "12658555715706683392"
        ],
        [
         "s08aef7872cb53fd9a8a03f6c7ca1dbeb",
         "13749521468946485248,13748827422978760704,13749102002316390400,12752748199570018304,12752746545238519808"
        ],
        [
         "s0935efd2f34f394485fdde9b75ec484d",
         "13733518731235082240,12752672107995021312,12732777239913652224"
        ],
        [
         "s09f60a6994b73012899689f716089dfc",
         "12751742905541328896"
        ],
        [
         "s0dcb900db2953052bf0d3cc56e37e7b3",
         "12695193660822462464"
        ],
        [
         "s0e295479b6f9309ab1af86715cf12e45",
         "12747696250683711488"
        ],
        [
         "s0f381032c2ae3bfca0cc5567b7f85a4f",
         "12682392904319401984"
        ],
        [
         "s0ffc3574980531e39b0d2f79d770c0b1",
         "12619303922786119680"
        ],
        [
         "s1053d3a398b63538801af5fea1db1fd6",
         "12744928158871658496"
        ],
        [
         "s10589120f5c036af8eadd9cd7bd89558",
         "12704053274831601664"
        ],
        [
         "s12dd0f0e204230ab9832fdcc38aff7e4",
         "12751673732216852480,12750003809465323520"
        ],
        [
         "s12e148ccee1a329fa0c14003299b9f6b",
         "12672083985976291328,12672083645593780224"
        ],
        [
         "s13a4e25fef4830e8979886c37a566b82",
         "12713701378278563840,12676399587862827008,12675987202896400384"
        ],
        [
         "s13f7026181cb3d888b3c697b7f0d2e07",
         "13748818802837291008"
        ],
        [
         "s13fda81c43f23e148c288c6e4c587461",
         "12749811099053277184"
        ],
        [
         "s140f02f9c54a35198225a9e415b2e995",
         "12749610659674681344"
        ],
        [
         "s1453bc47dfe434f68b10dd7f0a78f0a6",
         "12750975660462714880"
        ],
        [
         "s15004acf6c0c39ae8d1ab7733436b582",
         "12729143583190929408"
        ],
        [
         "s16d382c2d76a31fcbdc0f50e85053f5b",
         "12749843397824929792"
        ],
        [
         "s1715688367383f83a0ab8d42103917c6",
         "12742568066881908736,12742545343508844544"
        ],
        [
         "s180060933c213409ac6c7ac75ffc2779",
         "12680539256781295616"
        ],
        [
         "s18262561daa63ec99a0ab5e0931a3083",
         "12753262356424060928,12741393881478402048"
        ],
        [
         "s1873dd8fbacb39e29c779f11f30c37be",
         "12750702611597115392"
        ],
        [
         "s18ea314459df32899722fb84c9353661",
         "13752694512750960640,13753212480707207168,13750976508832694272,12749840212357136384"
        ],
        [
         "s1a50f1be47a934279ca91bee8a2cac0d",
         "12735192157350342656"
        ],
        [
         "s1ad6d9ba9d8b347c9ffe13ffb6bfcc1a",
         "12718992218941554688"
        ],
        [
         "s1af1da989c9f38bc9d119755088cb7d0",
         "12744546155301572608,12744546683742957568"
        ],
        [
         "s1b017b57b5bf3badafa5016a0283246c",
         "13749017396624502784"
        ],
        [
         "s1bd3e5f612313db08005621949414300",
         "12724677195469594624"
        ],
        [
         "s1bde103ae2e231aa91e2008ed9e61554",
         "12740862160610078720"
        ],
        [
         "s1c67e9a1ac943f9cbb5250ca2634c9cc",
         "12687862647383150592"
        ],
        [
         "s1c6e13eff5943eafb8f80c94430b258d",
         "12739344739541966848"
        ],
        [
         "s1ca7fd546d5e3cd48bee217b51a0dbb8",
         "12750267096103473152"
        ],
        [
         "s1d46b8b0d9d33464affd815f7451b185",
         "13748782338151071744"
        ],
        [
         "s1dab74dd16bc3d4bbd70458255c1b643",
         "12709952664399790080"
        ],
        [
         "s1deb53191b263b129604b558b46b0a0c",
         "12720957705180794880"
        ],
        [
         "s1df4340b31b33d5ba22d07df6b88ebf1",
         "12706063259319848960"
        ],
        [
         "s2054bc2c15e136f78e9ee7a0866f2239",
         "12750491141551423488"
        ],
        [
         "s20c6bdfcbe133e9f9b9d7c49b69e2869",
         "12748826680207130624"
        ],
        [
         "s2153a2fe09e23d529a661078b0248a25",
         "13749297283376857088"
        ],
        [
         "s218ea0e20f0c36339be5e6f19b7f7792",
         "12715870745847042048"
        ]
       ],
       "shape": {
        "columns": 1,
        "rows": 352
       }
      },
      "text/html": [
       "<div>\n",
       "<style scoped>\n",
       "    .dataframe tbody tr th:only-of-type {\n",
       "        vertical-align: middle;\n",
       "    }\n",
       "\n",
       "    .dataframe tbody tr th {\n",
       "        vertical-align: top;\n",
       "    }\n",
       "\n",
       "    .dataframe thead th {\n",
       "        text-align: right;\n",
       "    }\n",
       "</style>\n",
       "<table border=\"1\" class=\"dataframe\">\n",
       "  <thead>\n",
       "    <tr style=\"text-align: right;\">\n",
       "      <th></th>\n",
       "      <th>adv_advno</th>\n",
       "    </tr>\n",
       "    <tr>\n",
       "      <th>advertiser_userno</th>\n",
       "      <th></th>\n",
       "    </tr>\n",
       "  </thead>\n",
       "  <tbody>\n",
       "    <tr>\n",
       "      <th>s0119d3ae19b832619f554631e41c9d71</th>\n",
       "      <td>12724047536393334784</td>\n",
       "    </tr>\n",
       "    <tr>\n",
       "      <th>s027ba514af1233178e8437cf0139a8e8</th>\n",
       "      <td>13717544266533711872,13730709405136564224,1274...</td>\n",
       "    </tr>\n",
       "    <tr>\n",
       "      <th>s029fc1353366358e806ce573f430e34e</th>\n",
       "      <td>12748816789249544192</td>\n",
       "    </tr>\n",
       "    <tr>\n",
       "      <th>s02a6779cfc4c367fb148d6f9c7f5e7d1</th>\n",
       "      <td>12645468749725069312</td>\n",
       "    </tr>\n",
       "    <tr>\n",
       "      <th>s03f22b90d96d35aa877cfd22f56b9e18</th>\n",
       "      <td>12734003992719945728</td>\n",
       "    </tr>\n",
       "    <tr>\n",
       "      <th>...</th>\n",
       "      <td>...</td>\n",
       "    </tr>\n",
       "    <tr>\n",
       "      <th>sfae1f5fb9fa93dacb81e44b23b93bd81</th>\n",
       "      <td>13733187909778223104</td>\n",
       "    </tr>\n",
       "    <tr>\n",
       "      <th>sfc54f7fd84f5382ca4d347f2d5fba2bc</th>\n",
       "      <td>12733650529708371968</td>\n",
       "    </tr>\n",
       "    <tr>\n",
       "      <th>sfd33765e18ef3fbaa6e06fe3fce61ce8</th>\n",
       "      <td>12696661390019944448</td>\n",
       "    </tr>\n",
       "    <tr>\n",
       "      <th>sfe49d9d9d81b36ccb4f522cd521e6ff9</th>\n",
       "      <td>12699053936402292736,12643367070924034048,1270...</td>\n",
       "    </tr>\n",
       "    <tr>\n",
       "      <th>sfed11e71d8563ec6b66c7fdcc78a08cd</th>\n",
       "      <td>12735430647009939456,12749970170965884928,1274...</td>\n",
       "    </tr>\n",
       "  </tbody>\n",
       "</table>\n",
       "<p>352 rows × 1 columns</p>\n",
       "</div>"
      ],
      "text/plain": [
       "                                                                           adv_advno\n",
       "advertiser_userno                                                                   \n",
       "s0119d3ae19b832619f554631e41c9d71                               12724047536393334784\n",
       "s027ba514af1233178e8437cf0139a8e8  13717544266533711872,13730709405136564224,1274...\n",
       "s029fc1353366358e806ce573f430e34e                               12748816789249544192\n",
       "s02a6779cfc4c367fb148d6f9c7f5e7d1                               12645468749725069312\n",
       "s03f22b90d96d35aa877cfd22f56b9e18                               12734003992719945728\n",
       "...                                                                              ...\n",
       "sfae1f5fb9fa93dacb81e44b23b93bd81                               13733187909778223104\n",
       "sfc54f7fd84f5382ca4d347f2d5fba2bc                               12733650529708371968\n",
       "sfd33765e18ef3fbaa6e06fe3fce61ce8                               12696661390019944448\n",
       "sfe49d9d9d81b36ccb4f522cd521e6ff9  12699053936402292736,12643367070924034048,1270...\n",
       "sfed11e71d8563ec6b66c7fdcc78a08cd  12735430647009939456,12749970170965884928,1274...\n",
       "\n",
       "[352 rows x 1 columns]"
      ]
     },
     "execution_count": 29,
     "metadata": {},
     "output_type": "execute_result"
    }
   ],
   "source": [
    "df[[\"adv_advno\", \"advertiser_userno\"]].astype(str).groupby(\"advertiser_userno\").agg(','.join)"
   ]
  },
  {
   "cell_type": "code",
   "execution_count": 30,
   "id": "b21d0667",
   "metadata": {},
   "outputs": [
    {
     "name": "stderr",
     "output_type": "stream",
     "text": [
      "/tmp/ipykernel_27913/3314834437.py:1: SettingWithCopyWarning: \n",
      "A value is trying to be set on a copy of a slice from a DataFrame.\n",
      "Try using .loc[row_indexer,col_indexer] = value instead\n",
      "\n",
      "See the caveats in the documentation: https://pandas.pydata.org/pandas-docs/stable/user_guide/indexing.html#returning-a-view-versus-a-copy\n",
      "  df_advertiser[\"advices\"] = df[[\"adv_advno\", \"advertiser_userno\"]].astype(str).groupby(\"advertiser_userno\")[\"adv_advno\"].transform(lambda x: ','.join(x))\n"
     ]
    }
   ],
   "source": [
    "df_advertiser[\"advices\"] = df[[\"adv_advno\", \"advertiser_userno\"]].astype(str).groupby(\"advertiser_userno\")[\"adv_advno\"].transform(lambda x: ','.join(x))"
   ]
  },
  {
   "cell_type": "code",
   "execution_count": 31,
   "id": "eabf0d07",
   "metadata": {},
   "outputs": [
    {
     "name": "stderr",
     "output_type": "stream",
     "text": [
      "/tmp/ipykernel_27913/626027465.py:1: SettingWithCopyWarning: \n",
      "A value is trying to be set on a copy of a slice from a DataFrame\n",
      "\n",
      "See the caveats in the documentation: https://pandas.pydata.org/pandas-docs/stable/user_guide/indexing.html#returning-a-view-versus-a-copy\n",
      "  df_advertiser.drop_duplicates(subset=[\"advertiser_userno\"], inplace=True)\n"
     ]
    }
   ],
   "source": [
    "df_advertiser.drop_duplicates(subset=[\"advertiser_userno\"], inplace=True)"
   ]
  },
  {
   "cell_type": "code",
   "execution_count": 32,
   "id": "4fbcf9e2",
   "metadata": {},
   "outputs": [
    {
     "name": "stdout",
     "output_type": "stream",
     "text": [
      "advertiser Transformación terminada.\n"
     ]
    }
   ],
   "source": [
    "df_advertiser.to_parquet(os.path.join(data_dir,'advertiser.parquet'), index=False)\n",
    "print(\"advertiser Transformación terminada.\")"
   ]
  },
  {
   "cell_type": "markdown",
   "id": "891bb29d",
   "metadata": {},
   "source": [
    "# Advice"
   ]
  },
  {
   "cell_type": "code",
   "execution_count": 33,
   "id": "dbc0558e",
   "metadata": {},
   "outputs": [],
   "source": [
    "advice_cols = [col for col in df.columns if (not col.startswith(\"advertiser\") or col in [\"advertiser_userno\", \"advertiser_nickname\"]) and not col in []]\n",
    "df_advice = df[advice_cols]"
   ]
  },
  {
   "cell_type": "code",
   "execution_count": 34,
   "id": "1403e905",
   "metadata": {},
   "outputs": [],
   "source": [
    "# Declara formatos\n",
    "custom_funcs = {\n",
    "    \"adv_advno\": lambda col: col.astype(str),\n",
    "    \"adv_classify\": lambda col: col.astype(\"category\"),\n",
    "    \"adv_tradetype\": lambda col: col.astype(\"category\"),\n",
    "    \"adv_asset\": lambda col: col.astype(\"category\"),\n",
    "    \"adv_fiatunit\": lambda col: col.astype(\"category\"),\n",
    "    \"adv_price\": lambda col: col.astype(float),\n",
    "    \"adv_surplusamount\": lambda col: col.astype(float),\n",
    "    \"adv_tradablequantity\": lambda col: col.astype(float),\n",
    "    \"adv_maxsingletransamount\": lambda col: col.astype(float),\n",
    "    \"adv_minsingletransamount\": lambda col: col.astype(float),\n",
    "    \"adv_paytimelimit\": lambda col: col.astype(int),\n",
    "    \"adv_takeradditionalkycrequired\": lambda col: col.astype(bool),\n",
    "    \"adv_assetscale\": lambda col: col.astype(int),\n",
    "    \"adv_fiatscale\": lambda col: col.astype(int),\n",
    "    \"adv_pricescale\": lambda col: col.astype(int),\n",
    "    \"adv_fiatsymbol\": lambda col: col.astype(\"category\"),\n",
    "    \"adv_istradable\": lambda col: col.astype(bool),\n",
    "    \"adv_dynamicmaxsingletransamount\": lambda col: col.astype(float),\n",
    "    \"adv_minsingletransquantity\": lambda col: col.astype(float),\n",
    "    \"adv_maxsingletransquantity\": lambda col: col.astype(float),\n",
    "    \"adv_dynamicmaxsingletransquantity\": lambda col: col.astype(float),\n",
    "    \"adv_commissionrate\": lambda col: col.astype(float),\n",
    "    \"adv_issafepayment\": lambda col: col.astype(bool),\n",
    "    \n",
    "    \"adv_trademethods\": lambda col: col.apply(lambda x: [method['identifier'] for method in eval(x)]),\n",
    "    \n",
    "    \"advertiser_userno\": lambda col: col.astype(str),\n",
    "    \"advertiser_nickname\": lambda col: col.astype(str),\n",
    "\n",
    "    \"timestamp\": lambda col: pd.to_datetime(col, unit=\"s\"),\n",
    "    \"source\": lambda col: col.astype(\"category\"),\n",
    "}"
   ]
  },
  {
   "cell_type": "code",
   "execution_count": 35,
   "id": "55df160e",
   "metadata": {},
   "outputs": [],
   "source": [
    "# Pone los formatos\n",
    "default_func = lambda col: col\n",
    "\n",
    "for col in df_advice.columns:\n",
    "    df_advice.loc[:, col] = custom_funcs.get(col, default_func)(df_advice[col])"
   ]
  },
  {
   "cell_type": "code",
   "execution_count": 36,
   "id": "00272168",
   "metadata": {},
   "outputs": [
    {
     "name": "stdout",
     "output_type": "stream",
     "text": [
      "advice Transformación terminada.\n"
     ]
    }
   ],
   "source": [
    "df_advice.to_parquet(os.path.join(data_dir,'advice.parquet'), index=False)\n",
    "print(\"advice Transformación terminada.\")"
   ]
  },
  {
   "cell_type": "markdown",
   "id": "8c1bd7c9",
   "metadata": {},
   "source": [
    "# Trade Methods"
   ]
  },
  {
   "cell_type": "code",
   "execution_count": 37,
   "id": "875a9447",
   "metadata": {},
   "outputs": [],
   "source": [
    "trade_methods_cols = [\n",
    "    col\n",
    "    for col in df.columns\n",
    "    if (col in [\"adv_advno\", \"adv_trademethods\"]) and not col in []\n",
    "]\n",
    "df_advice_trade_info = df[trade_methods_cols]"
   ]
  },
  {
   "cell_type": "code",
   "execution_count": null,
   "id": "693d7fc3",
   "metadata": {},
   "outputs": [],
   "source": [
    "df_advice_trade_table = df_advice_trade_info[\"adv_trademethods\"].apply(eval).explode()\n",
    "\n",
    "df_trade_methods_table = pd.json_normalize(df_advice_trade_table)\n",
    "\n",
    "df_trade_methods_table[\"adv_advno\"] = df_advice_trade_info.loc[df_advice_trade_table.index, \"adv_advno\"].values\n",
    "\n",
    "df_trade_methods_table = df_trade_methods_table.drop_duplicates()\n",
    "\n",
    "df_trade_methods = df_trade_methods_table.groupby(\"identifier\").agg({\n",
    "    \"adv_advno\": set,\n",
    "    \"tradeMethodName\": set,\n",
    "    \"tradeMethodShortName\": set,\n",
    "    \"tradeMethodBgColor\": set\n",
    "}).reset_index()\n",
    "\n",
    "df_trade_methods = df_trade_methods.applymap(lambda x: {str(i) for i in x if i is not None} if isinstance(x, set) else x)\n",
    "df_trade_methods = df_trade_methods.applymap(lambda x: ','.join(x) if isinstance(x, set) else x)"
   ]
  },
  {
   "cell_type": "code",
   "execution_count": 42,
   "id": "381b6a69",
   "metadata": {},
   "outputs": [
    {
     "name": "stdout",
     "output_type": "stream",
     "text": [
      "trade_methods Transformación terminada.\n"
     ]
    }
   ],
   "source": [
    "df_trade_methods.to_parquet(os.path.join(data_dir,'trade_methods.parquet'), index=False)\n",
    "print(\"trade_methods Transformación terminada.\")"
   ]
  }
 ],
 "metadata": {
  "kernelspec": {
   "display_name": ".venv",
   "language": "python",
   "name": "python3"
  },
  "language_info": {
   "codemirror_mode": {
    "name": "ipython",
    "version": 3
   },
   "file_extension": ".py",
   "mimetype": "text/x-python",
   "name": "python",
   "nbconvert_exporter": "python",
   "pygments_lexer": "ipython3",
   "version": "3.10.12"
  }
 },
 "nbformat": 4,
 "nbformat_minor": 5
}
