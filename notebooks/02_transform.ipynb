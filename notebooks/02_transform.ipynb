{
 "cells": [
  {
   "cell_type": "code",
   "execution_count": null,
   "id": "57ff8254",
   "metadata": {},
   "outputs": [],
   "source": [
    "# Install dependencies\n",
    "%pip install --upgrade pip \n",
    "%pip install pandas pyarrow fastparquet"
   ]
  },
  {
   "cell_type": "code",
   "execution_count": null,
   "id": "3639ba22",
   "metadata": {},
   "outputs": [],
   "source": [
    "import pandas as pd\n",
    "\n",
    "# PARAMETERS\n",
    "input_file = 'data/raw-data.csv'"
   ]
  },
  {
   "cell_type": "code",
   "execution_count": null,
   "id": "4f2e938d",
   "metadata": {},
   "outputs": [],
   "source": [
    "# TRANSFORM\n",
    "print(f\"Transformando datos de {input_file}...\")\n",
    "df = pd.read_csv(input_file)\n",
    "\n",
    "df.columns = [col.strip().lower().replace(' ', '_').replace('.','_') for col in df.columns]"
   ]
  },
  {
   "cell_type": "code",
   "execution_count": null,
   "id": "68051ac5",
   "metadata": {},
   "outputs": [],
   "source": [
    "df[\"adv_classify\"] = df[\"adv_classify\"].astype(\"category\")\n",
    "df[\"adv_tradetype\"] = df[\"adv_tradetype\"].astype(\"category\")\n",
    "df[\"adv_asset\"]= df[\"adv_asset\"].astype(\"category\")\n",
    "df[\"adv_fiatunit\"]= df[\"adv_fiatunit\"].astype(\"category\")\n",
    "df[\"adv_price\"] = df[\"adv_price\"].astype(\"float32\")"
   ]
  },
  {
   "cell_type": "code",
   "execution_count": null,
   "id": "1b552cd3",
   "metadata": {},
   "outputs": [],
   "source": [
    "df = df.dropna(axis=1, how='all')\n",
    "df.info()"
   ]
  },
  {
   "cell_type": "code",
   "execution_count": null,
   "id": "4fbcf9e2",
   "metadata": {},
   "outputs": [],
   "source": [
    "df.to_parquet('data/clean-data.parquet', index=False)\n",
    "print(\"Transformación terminada.\")"
   ]
  }
 ],
 "metadata": {
  "kernelspec": {
   "display_name": ".venv",
   "language": "python",
   "name": "python3"
  },
  "language_info": {
   "codemirror_mode": {
    "name": "ipython",
    "version": 3
   },
   "file_extension": ".py",
   "mimetype": "text/x-python",
   "name": "python",
   "nbconvert_exporter": "python",
   "pygments_lexer": "ipython3",
   "version": "3.10.12"
  }
 },
 "nbformat": 4,
 "nbformat_minor": 5
}
