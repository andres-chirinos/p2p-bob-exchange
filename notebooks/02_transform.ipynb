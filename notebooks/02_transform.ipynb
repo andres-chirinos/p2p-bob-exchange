{
 "cells": [
  {
   "cell_type": "code",
   "execution_count": null,
   "id": "57ff8254",
   "metadata": {},
   "outputs": [],
   "source": [
    "%pip install --upgrade pip \n",
    "%pip install pandas pyarrow fastparquet kaggle"
   ]
  },
  {
   "cell_type": "code",
   "execution_count": null,
   "id": "3639ba22",
   "metadata": {},
   "outputs": [],
   "source": [
    "import pandas as pd\n",
    "import json, re, os\n",
    "from kaggle.api.kaggle_api_extended import KaggleApi"
   ]
  },
  {
   "cell_type": "code",
   "execution_count": null,
   "id": "9f7a818b",
   "metadata": {
    "tags": [
     "parameters"
    ]
   },
   "outputs": [],
   "source": [
    "data_dir = \"../data\"\n",
    "kaggle = {\n",
    "    \"title\": \"Peer-to-Peer Boliviano (BOB) Exchange Data\",\n",
    "    \"subtitle\": \"Github Actions ETL Pipeline\",\n",
    "    \"description\": \"This project contains the ETL pipeline for the Peer-to-Peer Boliviano (BOB) Exchange Data. The data is collected from various sources and transformed into a clean format for analysis. \\nThe pipeline includes data extraction, transformation, and loading processes, along with data quality checks.\\n\",\n",
    "    \"id\": \"andreschirinos/p2p-bob-exchange\",\n",
    "    \"licenses\": [\n",
    "        {\n",
    "            \"name\": \"CC0-1.0\",\n",
    "            \"title\": \"CC0 1.0\",\n",
    "            \"path\": \"https://creativecommons.org/publicdomain/zero/1.0/\",\n",
    "        }\n",
    "    ],\n",
    "    \"resources\": [\n",
    "        {\n",
    "            \"path\": \"advertiser.parquet\",\n",
    "            \"description\": \"Advertiser data from the BOB exchange\",\n",
    "            \"schema\": {\n",
    "                \"fields\": [\n",
    "                    {\n",
    "                        \"name\": \"advertiser_userno\",\n",
    "                        \"order\": 0,\n",
    "                        \"description\": \"Unique identifier for the advertiser\",\n",
    "                        \"type\": \"string\",\n",
    "                    },\n",
    "                    {\n",
    "                        \"name\": \"advertiser_nickname\",\n",
    "                        \"order\": 1,\n",
    "                        \"description\": \"Nickname of the advertiser\",\n",
    "                        \"type\": \"string\",\n",
    "                    },\n",
    "                    {\n",
    "                        \"name\": \"advertiser_monthordercount\",\n",
    "                        \"order\": 2,\n",
    "                        \"description\": \"Number of orders placed by the advertiser in the last month\",\n",
    "                        \"type\": \"number\",\n",
    "                    },\n",
    "                    {\n",
    "                        \"name\": \"advertiser_monthfinishrate\",\n",
    "                        \"order\": 3,\n",
    "                        \"description\": \"Finish rate of the advertiser in the last month\",\n",
    "                        \"type\": \"number\",\n",
    "                    },\n",
    "                    {\n",
    "                        \"name\": \"advertiser_positiverate\",\n",
    "                        \"order\": 4,\n",
    "                        \"description\": \"Positive rate of the advertiser\",\n",
    "                        \"type\": \"number\",\n",
    "                    },\n",
    "                    {\n",
    "                        \"name\": \"advertiser_usertype\",\n",
    "                        \"order\": 5,\n",
    "                        \"description\": \"Type of the advertiser (e.g., user, merchant)\",\n",
    "                        \"type\": \"string\",\n",
    "                    },\n",
    "                    {\n",
    "                        \"name\": \"advertiser_usergrade\",\n",
    "                        \"order\": 6,\n",
    "                        \"description\": \"Grade of the advertiser\",\n",
    "                        \"type\": \"string\",\n",
    "                    },\n",
    "                    {\n",
    "                        \"name\": \"advertiser_u seridentity\",\n",
    "                        \"order\": 7,\n",
    "                        \"description\": \"Identity of the advertiser (e.g., MASS_MERCHANT, BLOCK_MERCHANT)\",\n",
    "                        \"type\": \"string\",\n",
    "                    },\n",
    "                    {\n",
    "                        \"name\": \"advertiser_viplevel\",\n",
    "                        \"order\": 8,\n",
    "                        \"description\": \"VIP level of the advertiser\",\n",
    "                        \"type\": \"number\",\n",
    "                    },\n",
    "                    {\n",
    "                        \"name\": \"advertiser_isblocked\",\n",
    "                        \"order\": 9,\n",
    "                        \"description\": \"Indicates if the advertiser is blocked\",\n",
    "                        \"type\": \"boolean\",\n",
    "                    },\n",
    "                    {\n",
    "                        \"name\": \"advertiser_activetimeinsecond\",\n",
    "                        \"order\": 10,\n",
    "                        \"description\": \"Active time of the advertiser in seconds\",\n",
    "                        \"type\": \"number\",\n",
    "                    },\n",
    "                    {\n",
    "                        \"name\": \"timestamp\",\n",
    "                        \"order\": 11,\n",
    "                        \"description\": \"Timestamp of the data collection\",\n",
    "                        \"type\": \"datetime\",\n",
    "                    },\n",
    "                    {\n",
    "                        \"name\": \"source\",\n",
    "                        \"order\": 12,\n",
    "                        \"description\": \"Source of the data (e.g, binance)\",\n",
    "                        \"type\": \"string\",\n",
    "                    },\n",
    "                ]\n",
    "            },\n",
    "            \"name\": \"advertiser\",\n",
    "            \"profile\": \"tabular-data-resource\",\n",
    "            \"title\": \"Advertiser Table\",\n",
    "            \"format\": \"format\",\n",
    "            \"encoding\": \"utf-8\",\n",
    "        }\n",
    "    ],\n",
    "    \"keywords\": [\n",
    "        \"p2p\",\n",
    "        \"exchange\",\n",
    "        \"data\",\n",
    "        \"pipeline\",\n",
    "        \"etl\",\n",
    "        \"bob\",\n",
    "        \"bolivia\",\n",
    "        \"cryptocurrency\",\n",
    "        \"bitcoin\",\n",
    "        \"blockchain\",\n",
    "    ],\n",
    "    \"name\": \"p2p-bob-exchange\",\n",
    "    \"homepage\": \"https://sociest.org\",\n",
    "    \"version\": \"1.0.0\",\n",
    "    \"contributors\": [{\"title\": \"Andres Chirinos\", \"role\": \"author\"}],\n",
    "}"
   ]
  },
  {
   "cell_type": "code",
   "execution_count": null,
   "id": "2178ee4a",
   "metadata": {},
   "outputs": [],
   "source": [
    "input_file = os.path.join(data_dir, 'raw-data.csv')"
   ]
  },
  {
   "cell_type": "code",
   "execution_count": null,
   "id": "51153371",
   "metadata": {},
   "outputs": [],
   "source": [
    "api = KaggleApi()\n",
    "api.authenticate()"
   ]
  },
  {
   "cell_type": "code",
   "execution_count": null,
   "id": "4f2e938d",
   "metadata": {},
   "outputs": [],
   "source": [
    "print(f\"Transformando datos de {input_file}...\")\n",
    "df = pd.read_csv(input_file)\n",
    "\n",
    "df.columns = [col.strip().lower().replace(' ', '_').replace('.','_') for col in df.columns]"
   ]
  },
  {
   "cell_type": "markdown",
   "id": "98b1e859",
   "metadata": {},
   "source": [
    "# Advertiser"
   ]
  },
  {
   "cell_type": "code",
   "execution_count": null,
   "id": "bb947b93",
   "metadata": {},
   "outputs": [],
   "source": [
    "# Separa las tablas\n",
    "advertiser_cols = [col for col in df.columns if col.startswith(\"advertiser\") or col in [\"timestamp\", \"source\"]]\n",
    "df_advertiser = df[advertiser_cols]"
   ]
  },
  {
   "cell_type": "code",
   "execution_count": null,
   "id": "89a905c3",
   "metadata": {},
   "outputs": [],
   "source": [
    "# Declara formatos\n",
    "custom_funcs = {\n",
    "    \"advertiser_userno\": lambda col: col.astype(str),\n",
    "    \"advertiser_monthordercount\": lambda col: col.astype(int),\n",
    "    \"advertiser_monthfinishrate\": lambda col: col.astype(float),\n",
    "    \"advertiser_positiverate\": lambda col: col.astype(float),\n",
    "    \"advertiser_usertype\": lambda col: col.astype(\"category\"),\n",
    "    \"advertiser_usergrade\": lambda col: col.astype(int),\n",
    "    \"advertiser_useridentity\": lambda col: col.astype(\"category\"),\n",
    "    \"advertiser_badges\": lambda col: col.astype(str),\n",
    "    \"advertiser_viplevel\": lambda col: col.fillna(0).astype(int),\n",
    "    \"advertiser_isblocked\": lambda col: col.astype(bool),\n",
    "    \"advertiser_activetimeinsecond\": lambda col: col.fillna(-1).astype(int),\n",
    "    \n",
    "    \"timestamp\": lambda col: pd.to_datetime(col, unit=\"s\"),\n",
    "    \"source\": lambda col: col.astype(\"category\"),\n",
    "}"
   ]
  },
  {
   "cell_type": "code",
   "execution_count": null,
   "id": "44b232b6",
   "metadata": {},
   "outputs": [],
   "source": [
    "# Pone los formatos\n",
    "default_func = lambda col: col\n",
    "\n",
    "for col in df_advertiser.columns:\n",
    "    df_advertiser.loc[:, col] = custom_funcs.get(col, default_func)(df_advertiser[col])"
   ]
  },
  {
   "cell_type": "code",
   "execution_count": null,
   "id": "62210af9",
   "metadata": {},
   "outputs": [],
   "source": [
    "df[[\"adv_advno\", \"advertiser_userno\"]].astype(str).groupby(\"advertiser_userno\").agg(','.join)"
   ]
  },
  {
   "cell_type": "code",
   "execution_count": null,
   "id": "b21d0667",
   "metadata": {},
   "outputs": [],
   "source": [
    "df_advertiser[\"advices\"] = df[[\"adv_advno\", \"advertiser_userno\"]].astype(str).groupby(\"advertiser_userno\")[\"adv_advno\"].transform(lambda x: ','.join(x))"
   ]
  },
  {
   "cell_type": "code",
   "execution_count": null,
   "id": "eabf0d07",
   "metadata": {},
   "outputs": [],
   "source": [
    "df_advertiser.drop_duplicates(subset=[\"advertiser_userno\"], inplace=True)"
   ]
  },
  {
   "cell_type": "code",
   "execution_count": null,
   "id": "4fbcf9e2",
   "metadata": {},
   "outputs": [],
   "source": [
    "df_advertiser.to_parquet(os.path.join(data_dir,'advertiser.parquet'), index=False)\n",
    "print(\"advertiser Transformación terminada.\")"
   ]
  },
  {
   "cell_type": "markdown",
   "id": "891bb29d",
   "metadata": {},
   "source": [
    "# Advice"
   ]
  },
  {
   "cell_type": "code",
   "execution_count": null,
   "id": "dbc0558e",
   "metadata": {},
   "outputs": [],
   "source": [
    "advice_cols = [col for col in df.columns if (not col.startswith(\"advertiser\") or col in [\"advertiser_userno\"]) and not col in []]\n",
    "df_advice = df[advice_cols]"
   ]
  },
  {
   "cell_type": "code",
   "execution_count": null,
   "id": "1403e905",
   "metadata": {},
   "outputs": [],
   "source": [
    "# Declara formatos\n",
    "custom_funcs = {\n",
    "    \"adv_advno\": lambda col: col.astype(str),\n",
    "    \"adv_classify\": lambda col: col.astype(\"category\"),\n",
    "    \"adv_tradetype\": lambda col: col.astype(\"category\"),\n",
    "    \"adv_asset\": lambda col: col.astype(\"category\"),\n",
    "    \"adv_fiatunit\": lambda col: col.astype(\"category\"),\n",
    "    \"adv_price\": lambda col: col.astype(float),\n",
    "    \"adv_surplusamount\": lambda col: col.astype(float),\n",
    "    \"adv_tradablequantity\": lambda col: col.astype(float),\n",
    "    \"adv_maxsingletransamount\": lambda col: col.astype(float),\n",
    "    \"adv_minsingletransamount\": lambda col: col.astype(float),\n",
    "    \"adv_paytimelimit\": lambda col: col.astype(int),\n",
    "    \"adv_takeradditionalkycrequired\": lambda col: col.astype(bool),\n",
    "    \"adv_assetscale\": lambda col: col.astype(int),\n",
    "    \"adv_fiatscale\": lambda col: col.astype(int),\n",
    "    \"adv_pricescale\": lambda col: col.astype(int),\n",
    "    \"adv_fiatsymbol\": lambda col: col.astype(\"category\"),\n",
    "    \"adv_istradable\": lambda col: col.astype(bool),\n",
    "    \"adv_dynamicmaxsingletransamount\": lambda col: col.astype(float),\n",
    "    \"adv_minsingletransquantity\": lambda col: col.astype(float),\n",
    "    \"adv_maxsingletransquantity\": lambda col: col.astype(float),\n",
    "    \"adv_dynamicmaxsingletransquantity\": lambda col: col.astype(float),\n",
    "    \"adv_commissionrate\": lambda col: col.astype(float),\n",
    "    \"adv_issafepayment\": lambda col: col.astype(bool),\n",
    "    \n",
    "    \"adv_trademethods\": lambda col: col.apply(lambda x: \",\".join([method['identifier'] for method in eval(x)])),\n",
    "    \n",
    "    \"advertiser_userno\": lambda col: col.astype(str),\n",
    "\n",
    "    \"timestamp\": lambda col: pd.to_datetime(col, unit=\"s\"),\n",
    "    \"source\": lambda col: col.astype(\"category\"),\n",
    "}"
   ]
  },
  {
   "cell_type": "code",
   "execution_count": null,
   "id": "55df160e",
   "metadata": {},
   "outputs": [],
   "source": [
    "# Pone los formatos\n",
    "default_func = lambda col: col\n",
    "\n",
    "for col in df_advice.columns:\n",
    "    df_advice.loc[:, col] = custom_funcs.get(col, default_func)(df_advice[col])"
   ]
  },
  {
   "cell_type": "code",
   "execution_count": null,
   "id": "a275ae63",
   "metadata": {},
   "outputs": [],
   "source": [
    "df_advice.columns = df_advice.columns.str.replace(\"^adv_\", \"\", regex=True)"
   ]
  },
  {
   "cell_type": "code",
   "execution_count": null,
   "id": "b6b377c9",
   "metadata": {},
   "outputs": [],
   "source": [
    "api.dataset_download_file(kaggle[\"id\"], \"advice.parquet\", path=data_dir, force=True, quiet=False)"
   ]
  },
  {
   "cell_type": "code",
   "execution_count": null,
   "id": "6a6566ea",
   "metadata": {},
   "outputs": [],
   "source": [
    "df_last_advice = pd.read_parquet(os.path.join(data_dir, \"advice.parquet\"))\n",
    "df_advice = pd.concat([df_last_advice, df_advice], ignore_index=True)"
   ]
  },
  {
   "cell_type": "code",
   "execution_count": null,
   "id": "00272168",
   "metadata": {},
   "outputs": [],
   "source": [
    "df_advice.to_parquet(os.path.join(data_dir,'advice.parquet'), index=False)\n",
    "print(\"advice Transformación terminada.\")"
   ]
  },
  {
   "cell_type": "markdown",
   "id": "8c1bd7c9",
   "metadata": {},
   "source": [
    "# Trade Methods"
   ]
  },
  {
   "cell_type": "code",
   "execution_count": null,
   "id": "875a9447",
   "metadata": {},
   "outputs": [],
   "source": [
    "trade_methods_cols = [\n",
    "    col\n",
    "    for col in df.columns\n",
    "    if (col in [\"adv_advno\", \"adv_trademethods\"]) and not col in []\n",
    "]\n",
    "df_advice_trade_info = df[trade_methods_cols]"
   ]
  },
  {
   "cell_type": "code",
   "execution_count": null,
   "id": "693d7fc3",
   "metadata": {},
   "outputs": [],
   "source": [
    "df_advice_trade_table = df_advice_trade_info[\"adv_trademethods\"].apply(eval).explode()\n",
    "\n",
    "df_trade_methods_table = pd.json_normalize(df_advice_trade_table)\n",
    "\n",
    "df_trade_methods_table[\"adv_advno\"] = df_advice_trade_info.loc[df_advice_trade_table.index, \"adv_advno\"].values\n",
    "\n",
    "df_trade_methods_table = df_trade_methods_table.drop_duplicates()\n",
    "\n",
    "df_trade_methods = df_trade_methods_table.groupby(\"identifier\").agg({\n",
    "    \"adv_advno\": set,\n",
    "    \"tradeMethodName\": set,\n",
    "    \"tradeMethodShortName\": set,\n",
    "    \"tradeMethodBgColor\": set\n",
    "}).reset_index()\n",
    "\n",
    "df_trade_methods = df_trade_methods.applymap(lambda x: {str(i) for i in x if i is not None} if isinstance(x, set) else x)\n",
    "df_trade_methods = df_trade_methods.applymap(lambda x: ','.join(x) if isinstance(x, set) else x)"
   ]
  },
  {
   "cell_type": "code",
   "execution_count": null,
   "id": "381b6a69",
   "metadata": {},
   "outputs": [],
   "source": [
    "df_trade_methods.to_parquet(os.path.join(data_dir,'trade_methods.parquet'), index=False)\n",
    "print(\"trade_methods Transformación terminada.\")"
   ]
  }
 ],
 "metadata": {
  "kernelspec": {
   "display_name": ".venv",
   "language": "python",
   "name": "python3"
  },
  "language_info": {
   "codemirror_mode": {
    "name": "ipython",
    "version": 3
   },
   "file_extension": ".py",
   "mimetype": "text/x-python",
   "name": "python",
   "nbconvert_exporter": "python",
   "pygments_lexer": "ipython3",
   "version": "3.10.12"
  }
 },
 "nbformat": 4,
 "nbformat_minor": 5
}
