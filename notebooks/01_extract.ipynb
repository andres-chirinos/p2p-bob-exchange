{
 "cells": [
  {
   "cell_type": "code",
   "execution_count": null,
   "id": "2820b868",
   "metadata": {},
   "outputs": [],
   "source": [
    "%pip install --upgrade pip \n",
    "%pip install requests pandas"
   ]
  },
  {
   "cell_type": "code",
   "execution_count": null,
   "id": "be79a297",
   "metadata": {},
   "outputs": [],
   "source": [
    "import pandas as pd\n",
    "import notebooks.helpers as helpers\n",
    "from datetime import datetime, timedelta\n",
    "from typing import List\n",
    "import os"
   ]
  },
  {
   "cell_type": "code",
   "execution_count": null,
   "id": "4e3d927d",
   "metadata": {
    "tags": [
     "parameters"
    ]
   },
   "outputs": [],
   "source": [
    "data_dir = '../data'"
   ]
  },
  {
   "cell_type": "code",
   "execution_count": null,
   "id": "25728719",
   "metadata": {},
   "outputs": [],
   "source": [
    "fiat: str = \"BOB\"\n",
    "binance_url = \"https://p2p.binance.com/bapi/c2c/v2/friendly/c2c/adv/search\"\n",
    "binance_assets: List[str] = [\n",
    "    \"USDT\",\n",
    "    \"BTC\",\n",
    "    \"FDUSD\",\n",
    "    \"BNB\",\n",
    "    \"ETH\",\n",
    "    \"DAI\",\n",
    "    \"ADA\",\n",
    "    \"XRP\",\n",
    "    \"WLD\",\n",
    "    \"USDC\",\n",
    "    \"TRUMP\",\n",
    "    \"SOL\",\n",
    "    \"DOGE\",\n",
    "]"
   ]
  },
  {
   "cell_type": "code",
   "execution_count": null,
   "id": "1757c0ac",
   "metadata": {},
   "outputs": [],
   "source": [
    "# EXTRACT\n",
    "print(f\"Extrayendo datos de {binance_url}...\")\n",
    "\n",
    "all_data = pd.DataFrame()\n",
    "\n",
    "for asset in binance_assets:\n",
    "    # Get data from Binance\n",
    "    print(f\"Extrayendo datos de {asset}...\")\n",
    "    all_data = pd.concat(\n",
    "        [\n",
    "            all_data,\n",
    "            helpers.get_binance_data(\n",
    "                binance_url, fiat=fiat, asset=asset, tradeType=\"BUY\"\n",
    "            ),\n",
    "            helpers.get_binance_data(\n",
    "                binance_url, fiat=fiat, asset=asset, tradeType=\"SELL\"\n",
    "            ),\n",
    "        ]\n",
    "    )"
   ]
  },
  {
   "cell_type": "code",
   "execution_count": null,
   "id": "85f3d6d2",
   "metadata": {},
   "outputs": [],
   "source": [
    "all_data[\"timestamp\"] = datetime.timestamp(datetime.now())\n",
    "all_data[\"timestamp\"] = all_data[\"timestamp\"].astype(int)\n",
    "all_data[\"source\"] = \"binance\""
   ]
  },
  {
   "cell_type": "code",
   "execution_count": null,
   "id": "31099396",
   "metadata": {},
   "outputs": [],
   "source": [
    "# Guardar los datos en un archivo CSV\n",
    "all_data.to_csv(os.path.join(data_dir, 'raw-data.csv'), index=False)\n",
    "print(\"Datos extraídos y guardados.\")"
   ]
  }
 ],
 "metadata": {
  "kernelspec": {
   "display_name": ".venv",
   "language": "python",
   "name": "python3"
  },
  "language_info": {
   "codemirror_mode": {
    "name": "ipython",
    "version": 3
   },
   "file_extension": ".py",
   "mimetype": "text/x-python",
   "name": "python",
   "nbconvert_exporter": "python",
   "pygments_lexer": "ipython3",
   "version": "3.10.12"
  }
 },
 "nbformat": 4,
 "nbformat_minor": 5
}
