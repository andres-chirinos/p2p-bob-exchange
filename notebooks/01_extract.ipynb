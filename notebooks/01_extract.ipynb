{
 "cells": [
  {
   "cell_type": "code",
   "execution_count": null,
   "id": "2820b868",
   "metadata": {},
   "outputs": [],
   "source": [
    "# Install dependencies\n",
    "%pip install --upgrade pip \n",
    "%pip install requests pandas"
   ]
  },
  {
   "cell_type": "code",
   "execution_count": null,
   "id": "25728719",
   "metadata": {},
   "outputs": [],
   "source": [
    "# Imports + configs\n",
    "import requests, os\n",
    "import pandas as pd\n",
    "import helpers as helpers\n",
    "from datetime import datetime, timedelta\n",
    "from typing import List\n",
    "\n",
    "# PARAMETERS (para papermill)\n",
    "fiat: str = \"BOB\"\n",
    "binance_url = \"https://p2p.binance.com/bapi/c2c/v2/friendly/c2c/adv/search\"\n",
    "binance_assets: List[str] = [\n",
    "    \"USDT\",\n",
    "    \"BTC\",\n",
    "    \"FDUSD\",\n",
    "    \"BNB\",\n",
    "    \"ETH\",\n",
    "    \"DAI\",\n",
    "    \"ADA\",\n",
    "    \"XRP\",\n",
    "    \"WLD\",\n",
    "    \"USDC\",\n",
    "    \"TRUMP\",\n",
    "    \"SOL\",\n",
    "    \"DOGE\",\n",
    "]"
   ]
  },
  {
   "cell_type": "code",
   "execution_count": null,
   "id": "1757c0ac",
   "metadata": {},
   "outputs": [],
   "source": [
    "# EXTRACT\n",
    "print(f\"Extrayendo datos de {binance_url}...\")\n",
    "\n",
    "all_data = pd.DataFrame()\n",
    "\n",
    "for asset in binance_assets:\n",
    "    # Get data from Binance\n",
    "    print(f\"Extrayendo datos de {asset}...\")\n",
    "    all_data = pd.concat(\n",
    "        [\n",
    "            all_data,\n",
    "            helpers.get_binance_data(\n",
    "                binance_url, fiat=fiat, asset=asset, tradeType=\"BUY\"\n",
    "            ),\n",
    "            helpers.get_binance_data(\n",
    "                binance_url, fiat=fiat, asset=asset, tradeType=\"SELL\"\n",
    "            ),\n",
    "        ]\n",
    "    )"
   ]
  },
  {
   "cell_type": "code",
   "execution_count": null,
   "id": "85f3d6d2",
   "metadata": {},
   "outputs": [],
   "source": [
    "all_data[\"timestamp\"] = datetime.timestamp(datetime.now())\n",
    "all_data[\"timestamp\"] = all_data[\"timestamp\"].astype(int)\n",
    "all_data[\"source\"] = \"binance\""
   ]
  },
  {
   "cell_type": "code",
   "execution_count": null,
   "id": "31099396",
   "metadata": {},
   "outputs": [],
   "source": [
    "# Guardar los datos en un archivo CSV\n",
    "all_data.to_csv(\"data/raw-data.csv\", index=False)\n",
    "print(\"Datos extraídos y guardados.\")"
   ]
  }
 ],
 "metadata": {
  "kernelspec": {
   "display_name": ".venv",
   "language": "python",
   "name": "python3"
  },
  "language_info": {
   "codemirror_mode": {
    "name": "ipython",
    "version": 3
   },
   "file_extension": ".py",
   "mimetype": "text/x-python",
   "name": "python",
   "nbconvert_exporter": "python",
   "pygments_lexer": "ipython3",
   "version": "3.10.12"
  }
 },
 "nbformat": 4,
 "nbformat_minor": 5
}
